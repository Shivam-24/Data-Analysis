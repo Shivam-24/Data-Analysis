{
 "cells": [
  {
   "cell_type": "code",
   "execution_count": null,
   "id": "fb8c1398-f72e-4790-9d6c-bde5c63f3d49",
   "metadata": {},
   "outputs": [],
   "source": [
    "import pandas as pd"
   ]
  },
  {
   "cell_type": "code",
   "execution_count": null,
   "id": "04e0bccc-b070-4271-9039-1b2f3a244f45",
   "metadata": {},
   "outputs": [],
   "source": [
    "df_pizza_sales = pd.read_csv(\"./pizza_sales.csv\")\n",
    "df_pizza_sales.info()"
   ]
  },
  {
   "cell_type": "code",
   "execution_count": null,
   "id": "9ecbb386-448b-416c-8a71-0e1cf982dff8",
   "metadata": {},
   "outputs": [],
   "source": [
    "df_pizza_sales['order_date'] = pd.to_datetime(df_pizza_sales['order_date'],infer_datetime_format=True,format='mixed')\n",
    "df_pizza_sales.info()"
   ]
  },
  {
   "cell_type": "code",
   "execution_count": null,
   "id": "33a92be4-e1d6-4d1c-9591-b636964f3369",
   "metadata": {},
   "outputs": [],
   "source": [
    "# df_pizza_sales.info()\n",
    "# df_pizza_sales['order_date'].head(5)"
   ]
  },
  {
   "cell_type": "code",
   "execution_count": null,
   "id": "3253c46d-7b0b-4711-a236-87ea819cfb73",
   "metadata": {},
   "outputs": [],
   "source": [
    "#Convert to \"YYYY-MM-DD\" before exporting to CSV\n",
    "df_pizza_sales[\"order_date\"] = df_pizza_sales[\"order_date\"].dt.strftime(\"%Y-%m-%d\");\n",
    "# df_pizza_sales[\"order_date\"].head(5)\n",
    "df_pizza_sales.info()"
   ]
  },
  {
   "cell_type": "code",
   "execution_count": null,
   "id": "bc1b8f8f-8a4a-4edb-a381-14ab572a82e7",
   "metadata": {},
   "outputs": [],
   "source": [
    "df_pizza_sales.to_csv(\"./converted_pizza_sales.csv\",date_format=str,index=False)"
   ]
  },
  {
   "cell_type": "code",
   "execution_count": null,
   "id": "ad7431e4-f40d-45c3-b3e4-4049778496f2",
   "metadata": {},
   "outputs": [],
   "source": []
  }
 ],
 "metadata": {
  "kernelspec": {
   "display_name": "Python 3 (ipykernel)",
   "language": "python",
   "name": "python3"
  },
  "language_info": {
   "codemirror_mode": {
    "name": "ipython",
    "version": 3
   },
   "file_extension": ".py",
   "mimetype": "text/x-python",
   "name": "python",
   "nbconvert_exporter": "python",
   "pygments_lexer": "ipython3",
   "version": "3.12.3"
  }
 },
 "nbformat": 4,
 "nbformat_minor": 5
}
